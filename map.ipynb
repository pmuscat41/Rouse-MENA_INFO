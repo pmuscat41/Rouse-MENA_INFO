{
 "cells": [
  {
   "cell_type": "markdown",
   "id": "96646360",
   "metadata": {},
   "source": [
    "# Middle East Countries Mapping\n",
    "\n",
    "This notebook creates individual maps for Middle East countries (UAE, Saudi Arabia, Oman, Qatar, Bahrain, Kuwait) using matplotlib, cartopy, and geopandas."
   ]
  },
  {
   "cell_type": "code",
   "execution_count": null,
   "id": "7efc15ac",
   "metadata": {},
   "outputs": [],
   "source": []
  }
 ],
 "metadata": {
  "kernelspec": {
   "display_name": ".venv",
   "language": "python",
   "name": "python3"
  },
  "language_info": {
   "codemirror_mode": {
    "name": "ipython",
    "version": 3
   },
   "file_extension": ".py",
   "mimetype": "text/x-python",
   "name": "python",
   "nbconvert_exporter": "python",
   "pygments_lexer": "ipython3",
   "version": "3.9.2"
  }
 },
 "nbformat": 4,
 "nbformat_minor": 5
}
