{
 "cells": [
  {
   "cell_type": "markdown",
   "id": "96646360",
   "metadata": {},
   "source": [
    "# Middle East Countries Mapping\n",
    "\n",
    "This notebook creates individual maps for Middle East countries (UAE, Saudi Arabia, Oman, Qatar, Bahrain, Kuwait) using matplotlib, cartopy, and geopandas."
   ]
  },
  {
   "cell_type": "code",
   "execution_count": null,
   "id": "6a5c656d",
   "metadata": {},
   "outputs": [],
   "source": [
    "import matplotlib.pyplot as plt\n",
    "import cartopy.crs as ccrs\n",
    "import cartopy.feature as cfeature\n",
    "import geopandas as gpd\n",
    "import os\n",
    "import requests"
   ]
  },
  {
   "cell_type": "code",
   "execution_count": null,
   "id": "6c61e94c",
   "metadata": {},
   "outputs": [],
   "source": [
    "# List of countries to shade\n",
    "countries = [\"United Arab Emirates\", \"Saudi Arabia\", \"Oman\", \"Qatar\", \"Bahrain\", \"Kuwait\"]\n",
    "\n",
    "# Download GeoJSON file if not present\n",
    "geojson_url = \"https://raw.githubusercontent.com/johan/world.geo.json/master/countries.geo.json\"\n",
    "geojson_path = \"countries.geo.json\"\n",
    "if not os.path.exists(geojson_path):\n",
    "    r = requests.get(geojson_url)\n",
    "    with open(geojson_path, \"wb\") as f:\n",
    "        f.write(r.content)\n",
    "\n",
    "# Load country polygons\n",
    "gdf = gpd.read_file(geojson_path)"
   ]
  },
  {
   "cell_type": "code",
   "execution_count": null,
   "id": "7936a71c",
   "metadata": {},
   "outputs": [],
   "source": [
    "for country in countries:\n",
    "    fig = plt.figure(figsize=(10, 6))\n",
    "    ax = plt.axes(projection=ccrs.PlateCarree())\n",
    "    ax.add_feature(cfeature.BORDERS, linewidth=1)\n",
    "    ax.add_feature(cfeature.COASTLINE)\n",
    "    ax.set_extent([30, 65, 10, 35])  # Middle East region\n",
    "    ax.set_title(f\"{country}\")\n",
    "\n",
    "    # Shade selected country\n",
    "    country_shape = gdf[gdf['name'] == country]\n",
    "    if not country_shape.empty:\n",
    "        country_shape.plot(ax=ax, facecolor='turquoise', edgecolor='black', linewidth=1, alpha=0.6)\n",
    "    else:\n",
    "        print(f\"Country not found: {country}\")\n",
    "\n",
    "    plt.show()"
   ]
  }
 ],
 "metadata": {
  "kernelspec": {
   "display_name": ".venv",
   "language": "python",
   "name": "python3"
  },
  "language_info": {
   "name": "python",
   "version": "3.12.3"
  }
 },
 "nbformat": 4,
 "nbformat_minor": 5
}
